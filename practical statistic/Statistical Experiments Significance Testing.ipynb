{
 "cells": [
  {
   "cell_type": "code",
   "execution_count": 28,
   "id": "da7d62e5",
   "metadata": {},
   "outputs": [],
   "source": [
    "import pandas as pd\n",
    "import scipy.stats as ss\n",
    "import statsmodels.api as sm\n",
    "import math as mt\n",
    "import random\n",
    "import numpy as np\n",
    "import matplotlib.pyplot as plt\n",
    "import seaborn as sns\n",
    "import statsmodels.formula.api as smf"
   ]
  },
  {
   "cell_type": "markdown",
   "id": "1dfeb5ee",
   "metadata": {},
   "source": [
    "# Statistical Experiments Significance Testing"
   ]
  },
  {
   "cell_type": "markdown",
   "id": "49580b37",
   "metadata": {},
   "source": [
    "## Random Permutation\n",
    "data: https://www.kaggle.com/datasets/zhangluyuan/ab-testing?select=ab_data.csv"
   ]
  },
  {
   "cell_type": "code",
   "execution_count": 7,
   "id": "0bdc1f0c",
   "metadata": {},
   "outputs": [],
   "source": [
    "def permutation_function(dataframe, data_col, grouping_col, iterations, statistic_function):\n",
    "    output = {}\n",
    "    \n",
    "    groups = dataframe[grouping_col].value_counts().index\n",
    "    values = dataframe[grouping_col].value_counts()\n",
    "    \n",
    "    for x in range(iterations):\n",
    "        for i in groups:\n",
    "            sample_amount = dataframe[grouping_col].value_counts()[i]\n",
    "            sample_data = dataframe[data_col].sample(sample_amount, replace=False).to_list()\n",
    "            sample_metric = statistic_function(sample_data)\n",
    "            try:\n",
    "                output[i].append(sample_metric)\n",
    "            except (KeyError, AttributeError):\n",
    "                output[i] = [sample_metric]\n",
    "    \n",
    "    final_output = pd.DataFrame(output)\n",
    "    return final_output"
   ]
  },
  {
   "cell_type": "code",
   "execution_count": 4,
   "id": "5fc80bda",
   "metadata": {},
   "outputs": [
    {
     "data": {
      "text/html": [
       "<div>\n",
       "<style scoped>\n",
       "    .dataframe tbody tr th:only-of-type {\n",
       "        vertical-align: middle;\n",
       "    }\n",
       "\n",
       "    .dataframe tbody tr th {\n",
       "        vertical-align: top;\n",
       "    }\n",
       "\n",
       "    .dataframe thead th {\n",
       "        text-align: right;\n",
       "    }\n",
       "</style>\n",
       "<table border=\"1\" class=\"dataframe\">\n",
       "  <thead>\n",
       "    <tr style=\"text-align: right;\">\n",
       "      <th></th>\n",
       "      <th>user_id</th>\n",
       "      <th>timestamp</th>\n",
       "      <th>group</th>\n",
       "      <th>landing_page</th>\n",
       "      <th>converted</th>\n",
       "    </tr>\n",
       "  </thead>\n",
       "  <tbody>\n",
       "    <tr>\n",
       "      <th>0</th>\n",
       "      <td>851104</td>\n",
       "      <td>2017-01-21 22:11:48.556739</td>\n",
       "      <td>control</td>\n",
       "      <td>old_page</td>\n",
       "      <td>0</td>\n",
       "    </tr>\n",
       "    <tr>\n",
       "      <th>1</th>\n",
       "      <td>804228</td>\n",
       "      <td>2017-01-12 08:01:45.159739</td>\n",
       "      <td>control</td>\n",
       "      <td>old_page</td>\n",
       "      <td>0</td>\n",
       "    </tr>\n",
       "    <tr>\n",
       "      <th>2</th>\n",
       "      <td>661590</td>\n",
       "      <td>2017-01-11 16:55:06.154213</td>\n",
       "      <td>treatment</td>\n",
       "      <td>new_page</td>\n",
       "      <td>0</td>\n",
       "    </tr>\n",
       "    <tr>\n",
       "      <th>3</th>\n",
       "      <td>853541</td>\n",
       "      <td>2017-01-08 18:28:03.143765</td>\n",
       "      <td>treatment</td>\n",
       "      <td>new_page</td>\n",
       "      <td>0</td>\n",
       "    </tr>\n",
       "    <tr>\n",
       "      <th>4</th>\n",
       "      <td>864975</td>\n",
       "      <td>2017-01-21 01:52:26.210827</td>\n",
       "      <td>control</td>\n",
       "      <td>old_page</td>\n",
       "      <td>1</td>\n",
       "    </tr>\n",
       "    <tr>\n",
       "      <th>...</th>\n",
       "      <td>...</td>\n",
       "      <td>...</td>\n",
       "      <td>...</td>\n",
       "      <td>...</td>\n",
       "      <td>...</td>\n",
       "    </tr>\n",
       "    <tr>\n",
       "      <th>294473</th>\n",
       "      <td>751197</td>\n",
       "      <td>2017-01-03 22:28:38.630509</td>\n",
       "      <td>control</td>\n",
       "      <td>old_page</td>\n",
       "      <td>0</td>\n",
       "    </tr>\n",
       "    <tr>\n",
       "      <th>294474</th>\n",
       "      <td>945152</td>\n",
       "      <td>2017-01-12 00:51:57.078372</td>\n",
       "      <td>control</td>\n",
       "      <td>old_page</td>\n",
       "      <td>0</td>\n",
       "    </tr>\n",
       "    <tr>\n",
       "      <th>294475</th>\n",
       "      <td>734608</td>\n",
       "      <td>2017-01-22 11:45:03.439544</td>\n",
       "      <td>control</td>\n",
       "      <td>old_page</td>\n",
       "      <td>0</td>\n",
       "    </tr>\n",
       "    <tr>\n",
       "      <th>294476</th>\n",
       "      <td>697314</td>\n",
       "      <td>2017-01-15 01:20:28.957438</td>\n",
       "      <td>control</td>\n",
       "      <td>old_page</td>\n",
       "      <td>0</td>\n",
       "    </tr>\n",
       "    <tr>\n",
       "      <th>294477</th>\n",
       "      <td>715931</td>\n",
       "      <td>2017-01-16 12:40:24.467417</td>\n",
       "      <td>treatment</td>\n",
       "      <td>new_page</td>\n",
       "      <td>0</td>\n",
       "    </tr>\n",
       "  </tbody>\n",
       "</table>\n",
       "<p>294478 rows × 5 columns</p>\n",
       "</div>"
      ],
      "text/plain": [
       "        user_id                   timestamp      group landing_page  converted\n",
       "0        851104  2017-01-21 22:11:48.556739    control     old_page          0\n",
       "1        804228  2017-01-12 08:01:45.159739    control     old_page          0\n",
       "2        661590  2017-01-11 16:55:06.154213  treatment     new_page          0\n",
       "3        853541  2017-01-08 18:28:03.143765  treatment     new_page          0\n",
       "4        864975  2017-01-21 01:52:26.210827    control     old_page          1\n",
       "...         ...                         ...        ...          ...        ...\n",
       "294473   751197  2017-01-03 22:28:38.630509    control     old_page          0\n",
       "294474   945152  2017-01-12 00:51:57.078372    control     old_page          0\n",
       "294475   734608  2017-01-22 11:45:03.439544    control     old_page          0\n",
       "294476   697314  2017-01-15 01:20:28.957438    control     old_page          0\n",
       "294477   715931  2017-01-16 12:40:24.467417  treatment     new_page          0\n",
       "\n",
       "[294478 rows x 5 columns]"
      ]
     },
     "execution_count": 4,
     "metadata": {},
     "output_type": "execute_result"
    }
   ],
   "source": [
    "abTestImport = pd.read_csv(\"ab_data.csv\")\n",
    "abTestImport"
   ]
  },
  {
   "cell_type": "code",
   "execution_count": 12,
   "id": "a97235a6",
   "metadata": {},
   "outputs": [
    {
     "data": {
      "text/html": [
       "<div>\n",
       "<style scoped>\n",
       "    .dataframe tbody tr th:only-of-type {\n",
       "        vertical-align: middle;\n",
       "    }\n",
       "\n",
       "    .dataframe tbody tr th {\n",
       "        vertical-align: top;\n",
       "    }\n",
       "\n",
       "    .dataframe thead th {\n",
       "        text-align: right;\n",
       "    }\n",
       "</style>\n",
       "<table border=\"1\" class=\"dataframe\">\n",
       "  <thead>\n",
       "    <tr style=\"text-align: right;\">\n",
       "      <th></th>\n",
       "      <th>user_id</th>\n",
       "      <th>timestamp</th>\n",
       "      <th>group</th>\n",
       "      <th>landing_page</th>\n",
       "      <th>converted</th>\n",
       "      <th>group_landing_page</th>\n",
       "    </tr>\n",
       "  </thead>\n",
       "  <tbody>\n",
       "    <tr>\n",
       "      <th>0</th>\n",
       "      <td>851104</td>\n",
       "      <td>2017-01-21 22:11:48.556739</td>\n",
       "      <td>control</td>\n",
       "      <td>old_page</td>\n",
       "      <td>0</td>\n",
       "      <td>controlold_page</td>\n",
       "    </tr>\n",
       "    <tr>\n",
       "      <th>1</th>\n",
       "      <td>804228</td>\n",
       "      <td>2017-01-12 08:01:45.159739</td>\n",
       "      <td>control</td>\n",
       "      <td>old_page</td>\n",
       "      <td>0</td>\n",
       "      <td>controlold_page</td>\n",
       "    </tr>\n",
       "    <tr>\n",
       "      <th>2</th>\n",
       "      <td>661590</td>\n",
       "      <td>2017-01-11 16:55:06.154213</td>\n",
       "      <td>treatment</td>\n",
       "      <td>new_page</td>\n",
       "      <td>0</td>\n",
       "      <td>treatmentnew_page</td>\n",
       "    </tr>\n",
       "    <tr>\n",
       "      <th>3</th>\n",
       "      <td>853541</td>\n",
       "      <td>2017-01-08 18:28:03.143765</td>\n",
       "      <td>treatment</td>\n",
       "      <td>new_page</td>\n",
       "      <td>0</td>\n",
       "      <td>treatmentnew_page</td>\n",
       "    </tr>\n",
       "    <tr>\n",
       "      <th>4</th>\n",
       "      <td>864975</td>\n",
       "      <td>2017-01-21 01:52:26.210827</td>\n",
       "      <td>control</td>\n",
       "      <td>old_page</td>\n",
       "      <td>1</td>\n",
       "      <td>controlold_page</td>\n",
       "    </tr>\n",
       "    <tr>\n",
       "      <th>...</th>\n",
       "      <td>...</td>\n",
       "      <td>...</td>\n",
       "      <td>...</td>\n",
       "      <td>...</td>\n",
       "      <td>...</td>\n",
       "      <td>...</td>\n",
       "    </tr>\n",
       "    <tr>\n",
       "      <th>294473</th>\n",
       "      <td>751197</td>\n",
       "      <td>2017-01-03 22:28:38.630509</td>\n",
       "      <td>control</td>\n",
       "      <td>old_page</td>\n",
       "      <td>0</td>\n",
       "      <td>controlold_page</td>\n",
       "    </tr>\n",
       "    <tr>\n",
       "      <th>294474</th>\n",
       "      <td>945152</td>\n",
       "      <td>2017-01-12 00:51:57.078372</td>\n",
       "      <td>control</td>\n",
       "      <td>old_page</td>\n",
       "      <td>0</td>\n",
       "      <td>controlold_page</td>\n",
       "    </tr>\n",
       "    <tr>\n",
       "      <th>294475</th>\n",
       "      <td>734608</td>\n",
       "      <td>2017-01-22 11:45:03.439544</td>\n",
       "      <td>control</td>\n",
       "      <td>old_page</td>\n",
       "      <td>0</td>\n",
       "      <td>controlold_page</td>\n",
       "    </tr>\n",
       "    <tr>\n",
       "      <th>294476</th>\n",
       "      <td>697314</td>\n",
       "      <td>2017-01-15 01:20:28.957438</td>\n",
       "      <td>control</td>\n",
       "      <td>old_page</td>\n",
       "      <td>0</td>\n",
       "      <td>controlold_page</td>\n",
       "    </tr>\n",
       "    <tr>\n",
       "      <th>294477</th>\n",
       "      <td>715931</td>\n",
       "      <td>2017-01-16 12:40:24.467417</td>\n",
       "      <td>treatment</td>\n",
       "      <td>new_page</td>\n",
       "      <td>0</td>\n",
       "      <td>treatmentnew_page</td>\n",
       "    </tr>\n",
       "  </tbody>\n",
       "</table>\n",
       "<p>290585 rows × 6 columns</p>\n",
       "</div>"
      ],
      "text/plain": [
       "        user_id                   timestamp      group landing_page  \\\n",
       "0        851104  2017-01-21 22:11:48.556739    control     old_page   \n",
       "1        804228  2017-01-12 08:01:45.159739    control     old_page   \n",
       "2        661590  2017-01-11 16:55:06.154213  treatment     new_page   \n",
       "3        853541  2017-01-08 18:28:03.143765  treatment     new_page   \n",
       "4        864975  2017-01-21 01:52:26.210827    control     old_page   \n",
       "...         ...                         ...        ...          ...   \n",
       "294473   751197  2017-01-03 22:28:38.630509    control     old_page   \n",
       "294474   945152  2017-01-12 00:51:57.078372    control     old_page   \n",
       "294475   734608  2017-01-22 11:45:03.439544    control     old_page   \n",
       "294476   697314  2017-01-15 01:20:28.957438    control     old_page   \n",
       "294477   715931  2017-01-16 12:40:24.467417  treatment     new_page   \n",
       "\n",
       "        converted group_landing_page  \n",
       "0               0    controlold_page  \n",
       "1               0    controlold_page  \n",
       "2               0  treatmentnew_page  \n",
       "3               0  treatmentnew_page  \n",
       "4               1    controlold_page  \n",
       "...           ...                ...  \n",
       "294473          0    controlold_page  \n",
       "294474          0    controlold_page  \n",
       "294475          0    controlold_page  \n",
       "294476          0    controlold_page  \n",
       "294477          0  treatmentnew_page  \n",
       "\n",
       "[290585 rows x 6 columns]"
      ]
     },
     "execution_count": 12,
     "metadata": {},
     "output_type": "execute_result"
    }
   ],
   "source": [
    "i = abTestImport[\n",
    "    (\n",
    "        (abTestImport[\"group\"] == \"treatment\")\n",
    "        == (abTestImport[\"landing_page\"] == \"new_page\")\n",
    "    )\n",
    "    == False\n",
    "].index\n",
    "df2 = abTestImport.drop(i)\n",
    "df2"
   ]
  },
  {
   "cell_type": "code",
   "execution_count": 14,
   "id": "4b94008d",
   "metadata": {},
   "outputs": [
    {
     "data": {
      "text/html": [
       "<div>\n",
       "<style scoped>\n",
       "    .dataframe tbody tr th:only-of-type {\n",
       "        vertical-align: middle;\n",
       "    }\n",
       "\n",
       "    .dataframe tbody tr th {\n",
       "        vertical-align: top;\n",
       "    }\n",
       "\n",
       "    .dataframe thead th {\n",
       "        text-align: right;\n",
       "    }\n",
       "</style>\n",
       "<table border=\"1\" class=\"dataframe\">\n",
       "  <thead>\n",
       "    <tr style=\"text-align: right;\">\n",
       "      <th></th>\n",
       "      <th>treatment</th>\n",
       "      <th>control</th>\n",
       "    </tr>\n",
       "  </thead>\n",
       "  <tbody>\n",
       "    <tr>\n",
       "      <th>0</th>\n",
       "      <td>0.119062</td>\n",
       "      <td>0.119836</td>\n",
       "    </tr>\n",
       "    <tr>\n",
       "      <th>1</th>\n",
       "      <td>0.120480</td>\n",
       "      <td>0.119491</td>\n",
       "    </tr>\n",
       "    <tr>\n",
       "      <th>2</th>\n",
       "      <td>0.119083</td>\n",
       "      <td>0.118879</td>\n",
       "    </tr>\n",
       "    <tr>\n",
       "      <th>3</th>\n",
       "      <td>0.120108</td>\n",
       "      <td>0.119010</td>\n",
       "    </tr>\n",
       "    <tr>\n",
       "      <th>4</th>\n",
       "      <td>0.118959</td>\n",
       "      <td>0.119581</td>\n",
       "    </tr>\n",
       "    <tr>\n",
       "      <th>...</th>\n",
       "      <td>...</td>\n",
       "      <td>...</td>\n",
       "    </tr>\n",
       "    <tr>\n",
       "      <th>495</th>\n",
       "      <td>0.120149</td>\n",
       "      <td>0.119140</td>\n",
       "    </tr>\n",
       "    <tr>\n",
       "      <th>496</th>\n",
       "      <td>0.119564</td>\n",
       "      <td>0.119189</td>\n",
       "    </tr>\n",
       "    <tr>\n",
       "      <th>497</th>\n",
       "      <td>0.118780</td>\n",
       "      <td>0.120669</td>\n",
       "    </tr>\n",
       "    <tr>\n",
       "      <th>498</th>\n",
       "      <td>0.120466</td>\n",
       "      <td>0.119739</td>\n",
       "    </tr>\n",
       "    <tr>\n",
       "      <th>499</th>\n",
       "      <td>0.119392</td>\n",
       "      <td>0.119574</td>\n",
       "    </tr>\n",
       "  </tbody>\n",
       "</table>\n",
       "<p>500 rows × 2 columns</p>\n",
       "</div>"
      ],
      "text/plain": [
       "     treatment   control\n",
       "0     0.119062  0.119836\n",
       "1     0.120480  0.119491\n",
       "2     0.119083  0.118879\n",
       "3     0.120108  0.119010\n",
       "4     0.118959  0.119581\n",
       "..         ...       ...\n",
       "495   0.120149  0.119140\n",
       "496   0.119564  0.119189\n",
       "497   0.118780  0.120669\n",
       "498   0.120466  0.119739\n",
       "499   0.119392  0.119574\n",
       "\n",
       "[500 rows x 2 columns]"
      ]
     },
     "execution_count": 14,
     "metadata": {},
     "output_type": "execute_result"
    }
   ],
   "source": [
    "permutationData = permutation_function(df2, \"converted\", \"group\", 500, np.mean)\n",
    "permutationData"
   ]
  },
  {
   "cell_type": "code",
   "execution_count": 15,
   "id": "14e50e37",
   "metadata": {},
   "outputs": [
    {
     "data": {
      "text/plain": [
       "<AxesSubplot:>"
      ]
     },
     "execution_count": 15,
     "metadata": {},
     "output_type": "execute_result"
    },
    {
     "data": {
      "image/png": "[encoded data removed]",
      "text/plain": [
       "<Figure size 640x480 with 1 Axes>"
      ]
     },
     "metadata": {},
     "output_type": "display_data"
    }
   ],
   "source": [
    "permutationData[\"treatment\"].hist()\n",
    "permutationData[\"control\"].hist()"
   ]
  },
  {
   "cell_type": "markdown",
   "id": "459d727f",
   "metadata": {},
   "source": [
    "## Statistical Significance and p-value"
   ]
  },
  {
   "cell_type": "markdown",
   "id": "6f874a2b",
   "metadata": {},
   "source": [
    "### t-Test"
   ]
  },
  {
   "cell_type": "code",
   "execution_count": 17,
   "id": "dde17980",
   "metadata": {},
   "outputs": [
    {
     "name": "stdout",
     "output_type": "stream",
     "text": [
      "p-value for single sided test: 0.0948\n"
     ]
    }
   ],
   "source": [
    "# t-Test\n",
    "\n",
    "res = ss.ttest_ind(df2[df2['group'] == \"control\"][\"converted\"],\n",
    "                     df2[df2['group'] == \"treatment\"][\"converted\"],\n",
    "                     equal_var=False)\n",
    "print(f'p-value for single sided test: {res.pvalue/2:.4f}')"
   ]
  },
  {
   "cell_type": "markdown",
   "id": "0d26b341",
   "metadata": {},
   "source": [
    "### ANOVA (Analysis of Variance) Test"
   ]
  },
  {
   "cell_type": "code",
   "execution_count": 18,
   "id": "ec3f5c36",
   "metadata": {},
   "outputs": [
    {
     "data": {
      "text/html": [
       "<div>\n",
       "<style scoped>\n",
       "    .dataframe tbody tr th:only-of-type {\n",
       "        vertical-align: middle;\n",
       "    }\n",
       "\n",
       "    .dataframe tbody tr th {\n",
       "        vertical-align: top;\n",
       "    }\n",
       "\n",
       "    .dataframe thead th {\n",
       "        text-align: right;\n",
       "    }\n",
       "</style>\n",
       "<table border=\"1\" class=\"dataframe\">\n",
       "  <thead>\n",
       "    <tr style=\"text-align: right;\">\n",
       "      <th></th>\n",
       "      <th>Page</th>\n",
       "      <th>Time</th>\n",
       "    </tr>\n",
       "  </thead>\n",
       "  <tbody>\n",
       "    <tr>\n",
       "      <th>0</th>\n",
       "      <td>Page 1</td>\n",
       "      <td>164</td>\n",
       "    </tr>\n",
       "    <tr>\n",
       "      <th>1</th>\n",
       "      <td>Page 2</td>\n",
       "      <td>178</td>\n",
       "    </tr>\n",
       "    <tr>\n",
       "      <th>2</th>\n",
       "      <td>Page 3</td>\n",
       "      <td>175</td>\n",
       "    </tr>\n",
       "    <tr>\n",
       "      <th>3</th>\n",
       "      <td>Page 4</td>\n",
       "      <td>155</td>\n",
       "    </tr>\n",
       "    <tr>\n",
       "      <th>4</th>\n",
       "      <td>Page 1</td>\n",
       "      <td>172</td>\n",
       "    </tr>\n",
       "    <tr>\n",
       "      <th>5</th>\n",
       "      <td>Page 2</td>\n",
       "      <td>191</td>\n",
       "    </tr>\n",
       "    <tr>\n",
       "      <th>6</th>\n",
       "      <td>Page 3</td>\n",
       "      <td>193</td>\n",
       "    </tr>\n",
       "    <tr>\n",
       "      <th>7</th>\n",
       "      <td>Page 4</td>\n",
       "      <td>166</td>\n",
       "    </tr>\n",
       "    <tr>\n",
       "      <th>8</th>\n",
       "      <td>Page 1</td>\n",
       "      <td>177</td>\n",
       "    </tr>\n",
       "    <tr>\n",
       "      <th>9</th>\n",
       "      <td>Page 2</td>\n",
       "      <td>182</td>\n",
       "    </tr>\n",
       "    <tr>\n",
       "      <th>10</th>\n",
       "      <td>Page 3</td>\n",
       "      <td>171</td>\n",
       "    </tr>\n",
       "    <tr>\n",
       "      <th>11</th>\n",
       "      <td>Page 4</td>\n",
       "      <td>164</td>\n",
       "    </tr>\n",
       "    <tr>\n",
       "      <th>12</th>\n",
       "      <td>Page 1</td>\n",
       "      <td>156</td>\n",
       "    </tr>\n",
       "    <tr>\n",
       "      <th>13</th>\n",
       "      <td>Page 2</td>\n",
       "      <td>185</td>\n",
       "    </tr>\n",
       "    <tr>\n",
       "      <th>14</th>\n",
       "      <td>Page 3</td>\n",
       "      <td>163</td>\n",
       "    </tr>\n",
       "    <tr>\n",
       "      <th>15</th>\n",
       "      <td>Page 4</td>\n",
       "      <td>170</td>\n",
       "    </tr>\n",
       "    <tr>\n",
       "      <th>16</th>\n",
       "      <td>Page 1</td>\n",
       "      <td>195</td>\n",
       "    </tr>\n",
       "    <tr>\n",
       "      <th>17</th>\n",
       "      <td>Page 2</td>\n",
       "      <td>177</td>\n",
       "    </tr>\n",
       "    <tr>\n",
       "      <th>18</th>\n",
       "      <td>Page 3</td>\n",
       "      <td>176</td>\n",
       "    </tr>\n",
       "    <tr>\n",
       "      <th>19</th>\n",
       "      <td>Page 4</td>\n",
       "      <td>168</td>\n",
       "    </tr>\n",
       "  </tbody>\n",
       "</table>\n",
       "</div>"
      ],
      "text/plain": [
       "      Page  Time\n",
       "0   Page 1   164\n",
       "1   Page 2   178\n",
       "2   Page 3   175\n",
       "3   Page 4   155\n",
       "4   Page 1   172\n",
       "5   Page 2   191\n",
       "6   Page 3   193\n",
       "7   Page 4   166\n",
       "8   Page 1   177\n",
       "9   Page 2   182\n",
       "10  Page 3   171\n",
       "11  Page 4   164\n",
       "12  Page 1   156\n",
       "13  Page 2   185\n",
       "14  Page 3   163\n",
       "15  Page 4   170\n",
       "16  Page 1   195\n",
       "17  Page 2   177\n",
       "18  Page 3   176\n",
       "19  Page 4   168"
      ]
     },
     "execution_count": 18,
     "metadata": {},
     "output_type": "execute_result"
    }
   ],
   "source": [
    "four_sessions = pd.read_csv(\"four_sessions.csv\")\n",
    "four_sessions"
   ]
  },
  {
   "cell_type": "code",
   "execution_count": 22,
   "id": "dc22a1d4",
   "metadata": {},
   "outputs": [
    {
     "name": "stdout",
     "output_type": "stream",
     "text": [
      "Observed means: [172.8 182.6 175.6 164.6]\n",
      "Variance: 55.426666666666655\n",
      "Pr(Prob) 0.079\n"
     ]
    }
   ],
   "source": [
    "observed_variance = four_sessions.groupby('Page').mean().var()[0]\n",
    "print('Observed means:', four_sessions.groupby('Page').mean().values.ravel())\n",
    "print('Variance:', observed_variance)\n",
    "\n",
    "def perm_test(df): \n",
    "    df = df.copy()\n",
    "    df['Time'] = np.random.permutation(df['Time'].values)\n",
    "    return df.groupby('Page').mean().var()[0]\n",
    "\n",
    "perm_variance = [perm_test(four_sessions) for _ in range(3000)]\n",
    "print('Pr(Prob)', np.mean([var > observed_variance for var in perm_variance]))"
   ]
  },
  {
   "cell_type": "code",
   "execution_count": 30,
   "id": "d96ba011",
   "metadata": {},
   "outputs": [
    {
     "name": "stdout",
     "output_type": "stream",
     "text": [
      "            df  sum_sq     mean_sq         F    PR(>F)\n",
      "Page       3.0   831.4  277.133333  2.739825  0.077586\n",
      "Residual  16.0  1618.4  101.150000       NaN       NaN\n",
      "F-Statistic: 1.3699\n",
      "p-value: 0.0388\n"
     ]
    }
   ],
   "source": [
    "model = smf.ols('Time ~ Page', data=four_sessions).fit()\n",
    "\n",
    "aov_table = sm.stats.anova_lm(model)\n",
    "print(aov_table)\n",
    "res = ss.f_oneway(four_sessions[four_sessions.Page == 'Page 1'].Time,\n",
    "                 four_sessions[four_sessions.Page == 'Page 2'].Time,\n",
    "                 four_sessions[four_sessions.Page == 'Page 3'].Time,\n",
    "                 four_sessions[four_sessions.Page == 'Page 4'].Time)\n",
    "print(f'F-Statistic: {res.statistic/2:.4f}')\n",
    "print(f'p-value: {res.pvalue/2:.4f}')"
   ]
  },
  {
   "cell_type": "markdown",
   "id": "3d8ebc82",
   "metadata": {},
   "source": [
    "## Chi-Square Test"
   ]
  },
  {
   "cell_type": "code",
   "execution_count": 33,
   "id": "eccf00c3",
   "metadata": {},
   "outputs": [],
   "source": [
    "clickImport = pd.read_csv(\"click_rates.csv\")\n",
    "clicks = clickImport.pivot(index='Click', columns='Headline', values='Rate')"
   ]
  },
  {
   "cell_type": "code",
   "execution_count": 36,
   "id": "9b97fdb6",
   "metadata": {},
   "outputs": [
    {
     "name": "stdout",
     "output_type": "stream",
     "text": [
      "Observed chi2: 1.6659\n",
      "Resampled p-value: 0.4700\n"
     ]
    }
   ],
   "source": [
    "# Resampling approach\n",
    "box = [1] * 34\n",
    "box.extend([0] * 2966)\n",
    "random.shuffle(box)\n",
    "\n",
    "def chi2(observed, expected):\n",
    "    pearson_residuals = []\n",
    "    for row, expect in zip(observed, expected):\n",
    "        pearson_residuals.append([(observe - expect) ** 2 / expect\n",
    "                                  for observe in row])\n",
    "    # return sum of squares\n",
    "    return np.sum(pearson_residuals)\n",
    "\n",
    "expected_clicks = 34 / 3\n",
    "expected_noclicks = 1000 - expected_clicks\n",
    "expected = [expected_clicks, expected_noclicks]\n",
    "chi2observed = chi2(clicks.values, expected)\n",
    "\n",
    "def perm_fun(box):\n",
    "    random.shuffle(box)\n",
    "    sample_clicks = [sum(box[0:1000]),\n",
    "                     sum(box[1000:2000]),\n",
    "                     sum(box[2000:3000])]\n",
    "    sample_noclicks = [1000 - n for n in sample_clicks]\n",
    "    return chi2([sample_clicks, sample_noclicks], expected)\n",
    "\n",
    "perm_chi2 = [perm_fun(box) for _ in range(2000)]\n",
    "\n",
    "resampled_p_value = sum(perm_chi2 > chi2observed) / len(perm_chi2)\n",
    "print(f'Observed chi2: {chi2observed:.4f}')\n",
    "print(f'Resampled p-value: {resampled_p_value:.4f}')"
   ]
  },
  {
   "cell_type": "code",
   "execution_count": 35,
   "id": "87f7dd69",
   "metadata": {},
   "outputs": [
    {
     "name": "stdout",
     "output_type": "stream",
     "text": [
      "Observed chi2: 1.6659\n",
      "p-value: 0.4348\n"
     ]
    }
   ],
   "source": [
    "chisq, pvalue, df, expected = ss.chi2_contingency(clicks)\n",
    "print(f'Observed chi2: {chisq:.4f}')\n",
    "print(f'p-value: {pvalue:.4f}')"
   ]
  },
  {
   "cell_type": "markdown",
   "id": "4a6e8eaf",
   "metadata": {},
   "source": [
    "## Power and Sample Size"
   ]
  },
  {
   "cell_type": "code",
   "execution_count": 40,
   "id": "fbad439d",
   "metadata": {},
   "outputs": [
    {
     "name": "stdout",
     "output_type": "stream",
     "text": [
      "Sample Size: 25.525\n"
     ]
    }
   ],
   "source": [
    "# estimate sample size via power analysis\n",
    "from statsmodels.stats.power import TTestIndPower\n",
    "# parameters for power analysis\n",
    "effect = 0.8\n",
    "alpha = 0.05\n",
    "power = 0.8\n",
    "# perform power analysis\n",
    "analysis = TTestIndPower()\n",
    "result = analysis.solve_power(effect, power=power, nobs1=None, ratio=1.0, alpha=alpha)\n",
    "print('Sample Size: %.3f' % result)"
   ]
  },
  {
   "cell_type": "code",
   "execution_count": 38,
   "id": "50369c03",
   "metadata": {},
   "outputs": [
    {
     "data": {
      "image/png": "[encoded data removed]",
      "text/plain": [
       "<Figure size 640x480 with 1 Axes>"
      ]
     },
     "metadata": {},
     "output_type": "display_data"
    }
   ],
   "source": [
    "# calculate power curves for varying sample and effect size\n",
    "from numpy import array\n",
    "from matplotlib import pyplot\n",
    "from statsmodels.stats.power import TTestIndPower\n",
    "# parameters for power analysis\n",
    "effect_sizes = array([0.2, 0.5, 0.8])\n",
    "sample_sizes = array(range(5, 100))\n",
    "# calculate power curves from multiple power analyses\n",
    "analysis = TTestIndPower()\n",
    "analysis.plot_power(dep_var='nobs', nobs=sample_sizes, effect_size=effect_sizes)\n",
    "pyplot.show()"
   ]
  },
  {
   "cell_type": "markdown",
   "id": "cb38bc47",
   "metadata": {},
   "source": [
    "source: https://machinelearningmastery.com/statistical-power-and-power-analysis-in-python/"
   ]
  },
  {
   "cell_type": "code",
   "execution_count": 42,
   "id": "0a0a32b6",
   "metadata": {},
   "outputs": [],
   "source": [
    "def ruleOfThumb(currentEffect, effectSize):\n",
    "    return 16*(currentEffect*(1-currentEffect))/pow(effectSize,2)"
   ]
  },
  {
   "cell_type": "markdown",
   "id": "edcd1a87",
   "metadata": {},
   "source": [
    "source: https://www.kaggle.com/code/myzziah/e-commerce-a-b-testing-full-experiment/notebook"
   ]
  }
 ],
 "metadata": {
  "kernelspec": {
   "display_name": "Python 3 (ipykernel)",
   "language": "python",
   "name": "python3"
  },
  "language_info": {
   "codemirror_mode": {
    "name": "ipython",
    "version": 3
   },
   "file_extension": ".py",
   "mimetype": "text/x-python",
   "name": "python",
   "nbconvert_exporter": "python",
   "pygments_lexer": "ipython3",
   "version": "3.9.13"
  }
 },
 "nbformat": 4,
 "nbformat_minor": 5
}
